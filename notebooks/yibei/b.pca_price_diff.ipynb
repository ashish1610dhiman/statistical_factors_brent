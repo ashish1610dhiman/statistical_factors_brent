{
 "cells": [
  {
   "cell_type": "markdown",
   "metadata": {},
   "source": [
    "## Take difference of monthly price"
   ]
  },
  {
   "cell_type": "code",
   "execution_count": 2,
   "metadata": {},
   "outputs": [],
   "source": [
    "import numpy as np\n",
    "import pandas as pd\n",
    "import matplotlib.pyplot as plt"
   ]
  },
  {
   "cell_type": "code",
   "execution_count": 4,
   "metadata": {},
   "outputs": [],
   "source": [
    "pca = pd.read_csv('../../data/log_returns_pca.csv')"
   ]
  },
  {
   "cell_type": "code",
   "execution_count": 7,
   "metadata": {},
   "outputs": [],
   "source": [
    "price = pd.read_csv(\"../../data/agg_crude_price.csv\")"
   ]
  },
  {
   "cell_type": "code",
   "execution_count": 9,
   "metadata": {
    "scrolled": true
   },
   "outputs": [
    {
     "data": {
      "text/html": [
       "<div>\n",
       "<style scoped>\n",
       "    .dataframe tbody tr th:only-of-type {\n",
       "        vertical-align: middle;\n",
       "    }\n",
       "\n",
       "    .dataframe tbody tr th {\n",
       "        vertical-align: top;\n",
       "    }\n",
       "\n",
       "    .dataframe thead th {\n",
       "        text-align: right;\n",
       "    }\n",
       "</style>\n",
       "<table border=\"1\" class=\"dataframe\">\n",
       "  <thead>\n",
       "    <tr style=\"text-align: right;\">\n",
       "      <th></th>\n",
       "      <th>pca_0</th>\n",
       "      <th>pca_1</th>\n",
       "      <th>pca_2</th>\n",
       "      <th>pca_3</th>\n",
       "      <th>pca_4</th>\n",
       "      <th>pca_5</th>\n",
       "    </tr>\n",
       "  </thead>\n",
       "  <tbody>\n",
       "    <tr>\n",
       "      <th>count</th>\n",
       "      <td>1719.000000</td>\n",
       "      <td>1719.000000</td>\n",
       "      <td>1719.000000</td>\n",
       "      <td>1719.000000</td>\n",
       "      <td>1719.000000</td>\n",
       "      <td>1719.000000</td>\n",
       "    </tr>\n",
       "    <tr>\n",
       "      <th>mean</th>\n",
       "      <td>-0.002397</td>\n",
       "      <td>0.000244</td>\n",
       "      <td>-0.000098</td>\n",
       "      <td>0.000015</td>\n",
       "      <td>-0.000003</td>\n",
       "      <td>0.000004</td>\n",
       "    </tr>\n",
       "    <tr>\n",
       "      <th>std</th>\n",
       "      <td>0.069533</td>\n",
       "      <td>0.007889</td>\n",
       "      <td>0.003969</td>\n",
       "      <td>0.001989</td>\n",
       "      <td>0.001774</td>\n",
       "      <td>0.001670</td>\n",
       "    </tr>\n",
       "    <tr>\n",
       "      <th>min</th>\n",
       "      <td>-0.392744</td>\n",
       "      <td>-0.058195</td>\n",
       "      <td>-0.039314</td>\n",
       "      <td>-0.021543</td>\n",
       "      <td>-0.032206</td>\n",
       "      <td>-0.028653</td>\n",
       "    </tr>\n",
       "    <tr>\n",
       "      <th>25%</th>\n",
       "      <td>-0.040670</td>\n",
       "      <td>-0.003342</td>\n",
       "      <td>-0.001798</td>\n",
       "      <td>-0.000788</td>\n",
       "      <td>-0.000311</td>\n",
       "      <td>-0.000219</td>\n",
       "    </tr>\n",
       "    <tr>\n",
       "      <th>50%</th>\n",
       "      <td>-0.004049</td>\n",
       "      <td>0.000499</td>\n",
       "      <td>-0.000270</td>\n",
       "      <td>0.000015</td>\n",
       "      <td>0.000001</td>\n",
       "      <td>0.000010</td>\n",
       "    </tr>\n",
       "    <tr>\n",
       "      <th>75%</th>\n",
       "      <td>0.035878</td>\n",
       "      <td>0.004177</td>\n",
       "      <td>0.001378</td>\n",
       "      <td>0.000712</td>\n",
       "      <td>0.000321</td>\n",
       "      <td>0.000245</td>\n",
       "    </tr>\n",
       "    <tr>\n",
       "      <th>max</th>\n",
       "      <td>0.299889</td>\n",
       "      <td>0.041457</td>\n",
       "      <td>0.037401</td>\n",
       "      <td>0.018925</td>\n",
       "      <td>0.038383</td>\n",
       "      <td>0.023157</td>\n",
       "    </tr>\n",
       "  </tbody>\n",
       "</table>\n",
       "</div>"
      ],
      "text/plain": [
       "             pca_0        pca_1        pca_2        pca_3        pca_4  \\\n",
       "count  1719.000000  1719.000000  1719.000000  1719.000000  1719.000000   \n",
       "mean     -0.002397     0.000244    -0.000098     0.000015    -0.000003   \n",
       "std       0.069533     0.007889     0.003969     0.001989     0.001774   \n",
       "min      -0.392744    -0.058195    -0.039314    -0.021543    -0.032206   \n",
       "25%      -0.040670    -0.003342    -0.001798    -0.000788    -0.000311   \n",
       "50%      -0.004049     0.000499    -0.000270     0.000015     0.000001   \n",
       "75%       0.035878     0.004177     0.001378     0.000712     0.000321   \n",
       "max       0.299889     0.041457     0.037401     0.018925     0.038383   \n",
       "\n",
       "             pca_5  \n",
       "count  1719.000000  \n",
       "mean      0.000004  \n",
       "std       0.001670  \n",
       "min      -0.028653  \n",
       "25%      -0.000219  \n",
       "50%       0.000010  \n",
       "75%       0.000245  \n",
       "max       0.023157  "
      ]
     },
     "execution_count": 9,
     "metadata": {},
     "output_type": "execute_result"
    }
   ],
   "source": [
    "pca.describe()"
   ]
  },
  {
   "cell_type": "code",
   "execution_count": 21,
   "metadata": {},
   "outputs": [
    {
     "data": {
      "text/plain": [
       "Index(['Date', 'pca_0', 'pca_1', 'pca_2', 'pca_3', 'pca_4', 'pca_5'], dtype='object')"
      ]
     },
     "execution_count": 21,
     "metadata": {},
     "output_type": "execute_result"
    }
   ],
   "source": [
    "pca.columns"
   ]
  },
  {
   "cell_type": "code",
   "execution_count": 15,
   "metadata": {},
   "outputs": [
    {
     "data": {
      "text/plain": [
       "2329"
      ]
     },
     "execution_count": 15,
     "metadata": {},
     "output_type": "execute_result"
    }
   ],
   "source": [
    "price2 = price.copy()\n",
    "price2['contago'] = np.where(price2['PX_LAST']-price2['PX_LAST_12'] < 0, 1,0)\n",
    "price2['contago'].sum()"
   ]
  },
  {
   "cell_type": "code",
   "execution_count": 34,
   "metadata": {},
   "outputs": [
    {
     "data": {
      "text/plain": [
       "0.45205745341614906"
      ]
     },
     "execution_count": 34,
     "metadata": {},
     "output_type": "execute_result"
    }
   ],
   "source": [
    "price2[\"contago\"].sum()/price2.shape[0]"
   ]
  },
  {
   "cell_type": "code",
   "execution_count": 97,
   "metadata": {},
   "outputs": [
    {
     "name": "stderr",
     "output_type": "stream",
     "text": [
      "<ipython-input-97-ee272b3f8494>:3: SettingWithCopyWarning: \n",
      "A value is trying to be set on a copy of a slice from a DataFrame.\n",
      "Try using .loc[row_indexer,col_indexer] = value instead\n",
      "\n",
      "See the caveats in the documentation: https://pandas.pydata.org/pandas-docs/stable/user_guide/indexing.html#returning-a-view-versus-a-copy\n",
      "  price3['Date'] = pd.to_datetime(price3['Date'])\n"
     ]
    }
   ],
   "source": [
    "price_cols = [x for x in price2.columns if \"LAST\" in x]\n",
    "price3 = price2[[\"Date\"] + price_cols[:12]]\n",
    "price3['Date'] = pd.to_datetime(price3['Date'])\n",
    "price3.set_index('Date', inplace=True)\n",
    "#price3 = price3.drop(columns=[\"Date\"])\n",
    "#print(f\"Shape before dropping nulls, {df_subset.shape}\")\n",
    "price3 = price3.dropna()\n",
    "#print(f\"Shape after dropping nulls, {df_subset.shape}\")"
   ]
  },
  {
   "cell_type": "code",
   "execution_count": 100,
   "metadata": {},
   "outputs": [
    {
     "data": {
      "text/plain": [
       "(5148, 12)"
      ]
     },
     "execution_count": 100,
     "metadata": {},
     "output_type": "execute_result"
    }
   ],
   "source": [
    "price3.shape"
   ]
  },
  {
   "cell_type": "code",
   "execution_count": 101,
   "metadata": {},
   "outputs": [
    {
     "data": {
      "text/html": [
       "<div>\n",
       "<style scoped>\n",
       "    .dataframe tbody tr th:only-of-type {\n",
       "        vertical-align: middle;\n",
       "    }\n",
       "\n",
       "    .dataframe tbody tr th {\n",
       "        vertical-align: top;\n",
       "    }\n",
       "\n",
       "    .dataframe thead th {\n",
       "        text-align: right;\n",
       "    }\n",
       "</style>\n",
       "<table border=\"1\" class=\"dataframe\">\n",
       "  <thead>\n",
       "    <tr style=\"text-align: right;\">\n",
       "      <th></th>\n",
       "      <th>PX_LAST</th>\n",
       "      <th>PX_LAST_2</th>\n",
       "      <th>PX_LAST_3</th>\n",
       "      <th>PX_LAST_4</th>\n",
       "      <th>PX_LAST_5</th>\n",
       "      <th>PX_LAST_6</th>\n",
       "      <th>PX_LAST_7</th>\n",
       "      <th>PX_LAST_8</th>\n",
       "      <th>PX_LAST_9</th>\n",
       "      <th>PX_LAST_10</th>\n",
       "      <th>PX_LAST_11</th>\n",
       "      <th>PX_LAST_12</th>\n",
       "    </tr>\n",
       "    <tr>\n",
       "      <th>Date</th>\n",
       "      <th></th>\n",
       "      <th></th>\n",
       "      <th></th>\n",
       "      <th></th>\n",
       "      <th></th>\n",
       "      <th></th>\n",
       "      <th></th>\n",
       "      <th></th>\n",
       "      <th></th>\n",
       "      <th></th>\n",
       "      <th></th>\n",
       "      <th></th>\n",
       "    </tr>\n",
       "  </thead>\n",
       "  <tbody>\n",
       "    <tr>\n",
       "      <th>2023-04-12</th>\n",
       "      <td>87.34</td>\n",
       "      <td>86.73</td>\n",
       "      <td>85.99</td>\n",
       "      <td>85.26</td>\n",
       "      <td>84.58</td>\n",
       "      <td>83.93</td>\n",
       "      <td>83.35</td>\n",
       "      <td>82.67</td>\n",
       "      <td>82.08</td>\n",
       "      <td>81.60</td>\n",
       "      <td>81.01</td>\n",
       "      <td>80.52</td>\n",
       "    </tr>\n",
       "    <tr>\n",
       "      <th>2023-04-11</th>\n",
       "      <td>85.61</td>\n",
       "      <td>85.17</td>\n",
       "      <td>84.54</td>\n",
       "      <td>83.91</td>\n",
       "      <td>83.27</td>\n",
       "      <td>82.64</td>\n",
       "      <td>82.02</td>\n",
       "      <td>81.41</td>\n",
       "      <td>80.83</td>\n",
       "      <td>80.30</td>\n",
       "      <td>79.78</td>\n",
       "      <td>79.29</td>\n",
       "    </tr>\n",
       "    <tr>\n",
       "      <th>2023-04-10</th>\n",
       "      <td>84.18</td>\n",
       "      <td>83.79</td>\n",
       "      <td>83.21</td>\n",
       "      <td>82.61</td>\n",
       "      <td>82.00</td>\n",
       "      <td>81.40</td>\n",
       "      <td>80.81</td>\n",
       "      <td>80.23</td>\n",
       "      <td>79.67</td>\n",
       "      <td>79.17</td>\n",
       "      <td>78.67</td>\n",
       "      <td>78.21</td>\n",
       "    </tr>\n",
       "    <tr>\n",
       "      <th>2023-04-06</th>\n",
       "      <td>85.12</td>\n",
       "      <td>84.67</td>\n",
       "      <td>84.04</td>\n",
       "      <td>83.39</td>\n",
       "      <td>82.73</td>\n",
       "      <td>82.10</td>\n",
       "      <td>81.48</td>\n",
       "      <td>80.88</td>\n",
       "      <td>80.31</td>\n",
       "      <td>79.78</td>\n",
       "      <td>79.27</td>\n",
       "      <td>78.78</td>\n",
       "    </tr>\n",
       "    <tr>\n",
       "      <th>2023-04-05</th>\n",
       "      <td>84.99</td>\n",
       "      <td>84.62</td>\n",
       "      <td>84.04</td>\n",
       "      <td>83.42</td>\n",
       "      <td>82.77</td>\n",
       "      <td>82.15</td>\n",
       "      <td>81.55</td>\n",
       "      <td>80.97</td>\n",
       "      <td>80.41</td>\n",
       "      <td>79.89</td>\n",
       "      <td>79.39</td>\n",
       "      <td>78.91</td>\n",
       "    </tr>\n",
       "  </tbody>\n",
       "</table>\n",
       "</div>"
      ],
      "text/plain": [
       "            PX_LAST  PX_LAST_2  PX_LAST_3  PX_LAST_4  PX_LAST_5  PX_LAST_6  \\\n",
       "Date                                                                         \n",
       "2023-04-12    87.34      86.73      85.99      85.26      84.58      83.93   \n",
       "2023-04-11    85.61      85.17      84.54      83.91      83.27      82.64   \n",
       "2023-04-10    84.18      83.79      83.21      82.61      82.00      81.40   \n",
       "2023-04-06    85.12      84.67      84.04      83.39      82.73      82.10   \n",
       "2023-04-05    84.99      84.62      84.04      83.42      82.77      82.15   \n",
       "\n",
       "            PX_LAST_7  PX_LAST_8  PX_LAST_9  PX_LAST_10  PX_LAST_11  \\\n",
       "Date                                                                  \n",
       "2023-04-12      83.35      82.67      82.08       81.60       81.01   \n",
       "2023-04-11      82.02      81.41      80.83       80.30       79.78   \n",
       "2023-04-10      80.81      80.23      79.67       79.17       78.67   \n",
       "2023-04-06      81.48      80.88      80.31       79.78       79.27   \n",
       "2023-04-05      81.55      80.97      80.41       79.89       79.39   \n",
       "\n",
       "            PX_LAST_12  \n",
       "Date                    \n",
       "2023-04-12       80.52  \n",
       "2023-04-11       79.29  \n",
       "2023-04-10       78.21  \n",
       "2023-04-06       78.78  \n",
       "2023-04-05       78.91  "
      ]
     },
     "execution_count": 101,
     "metadata": {},
     "output_type": "execute_result"
    }
   ],
   "source": [
    "price3.head()"
   ]
  },
  {
   "cell_type": "code",
   "execution_count": 116,
   "metadata": {},
   "outputs": [],
   "source": [
    "cond = (price3['PX_LAST']<price3['PX_LAST_6']) & (price3['PX_LAST_6']<price3['PX_LAST_12'])\n",
    "price3['contago'] = np.where(cond,1,0)"
   ]
  },
  {
   "cell_type": "code",
   "execution_count": 102,
   "metadata": {},
   "outputs": [],
   "source": [
    "col_name = [f'{i}-{i+1} diff' for i in range(12)]"
   ]
  },
  {
   "cell_type": "code",
   "execution_count": 103,
   "metadata": {},
   "outputs": [
    {
     "data": {
      "text/html": [
       "<div>\n",
       "<style scoped>\n",
       "    .dataframe tbody tr th:only-of-type {\n",
       "        vertical-align: middle;\n",
       "    }\n",
       "\n",
       "    .dataframe tbody tr th {\n",
       "        vertical-align: top;\n",
       "    }\n",
       "\n",
       "    .dataframe thead th {\n",
       "        text-align: right;\n",
       "    }\n",
       "</style>\n",
       "<table border=\"1\" class=\"dataframe\">\n",
       "  <thead>\n",
       "    <tr style=\"text-align: right;\">\n",
       "      <th></th>\n",
       "      <th>PX_LAST_2</th>\n",
       "      <th>PX_LAST_3</th>\n",
       "      <th>PX_LAST_4</th>\n",
       "      <th>PX_LAST_5</th>\n",
       "      <th>PX_LAST_6</th>\n",
       "      <th>PX_LAST_7</th>\n",
       "      <th>PX_LAST_8</th>\n",
       "      <th>PX_LAST_9</th>\n",
       "      <th>PX_LAST_10</th>\n",
       "      <th>PX_LAST_11</th>\n",
       "      <th>PX_LAST_12</th>\n",
       "    </tr>\n",
       "    <tr>\n",
       "      <th>Date</th>\n",
       "      <th></th>\n",
       "      <th></th>\n",
       "      <th></th>\n",
       "      <th></th>\n",
       "      <th></th>\n",
       "      <th></th>\n",
       "      <th></th>\n",
       "      <th></th>\n",
       "      <th></th>\n",
       "      <th></th>\n",
       "      <th></th>\n",
       "    </tr>\n",
       "  </thead>\n",
       "  <tbody>\n",
       "    <tr>\n",
       "      <th>2023-04-12</th>\n",
       "      <td>-0.61</td>\n",
       "      <td>-0.74</td>\n",
       "      <td>-0.73</td>\n",
       "      <td>-0.68</td>\n",
       "      <td>-0.65</td>\n",
       "      <td>-0.58</td>\n",
       "      <td>-0.68</td>\n",
       "      <td>-0.59</td>\n",
       "      <td>-0.48</td>\n",
       "      <td>-0.59</td>\n",
       "      <td>-0.49</td>\n",
       "    </tr>\n",
       "    <tr>\n",
       "      <th>2023-04-11</th>\n",
       "      <td>-0.44</td>\n",
       "      <td>-0.63</td>\n",
       "      <td>-0.63</td>\n",
       "      <td>-0.64</td>\n",
       "      <td>-0.63</td>\n",
       "      <td>-0.62</td>\n",
       "      <td>-0.61</td>\n",
       "      <td>-0.58</td>\n",
       "      <td>-0.53</td>\n",
       "      <td>-0.52</td>\n",
       "      <td>-0.49</td>\n",
       "    </tr>\n",
       "    <tr>\n",
       "      <th>2023-04-10</th>\n",
       "      <td>-0.39</td>\n",
       "      <td>-0.58</td>\n",
       "      <td>-0.60</td>\n",
       "      <td>-0.61</td>\n",
       "      <td>-0.60</td>\n",
       "      <td>-0.59</td>\n",
       "      <td>-0.58</td>\n",
       "      <td>-0.56</td>\n",
       "      <td>-0.50</td>\n",
       "      <td>-0.50</td>\n",
       "      <td>-0.46</td>\n",
       "    </tr>\n",
       "    <tr>\n",
       "      <th>2023-04-06</th>\n",
       "      <td>-0.45</td>\n",
       "      <td>-0.63</td>\n",
       "      <td>-0.65</td>\n",
       "      <td>-0.66</td>\n",
       "      <td>-0.63</td>\n",
       "      <td>-0.62</td>\n",
       "      <td>-0.60</td>\n",
       "      <td>-0.57</td>\n",
       "      <td>-0.53</td>\n",
       "      <td>-0.51</td>\n",
       "      <td>-0.49</td>\n",
       "    </tr>\n",
       "    <tr>\n",
       "      <th>2023-04-05</th>\n",
       "      <td>-0.37</td>\n",
       "      <td>-0.58</td>\n",
       "      <td>-0.62</td>\n",
       "      <td>-0.65</td>\n",
       "      <td>-0.62</td>\n",
       "      <td>-0.60</td>\n",
       "      <td>-0.58</td>\n",
       "      <td>-0.56</td>\n",
       "      <td>-0.52</td>\n",
       "      <td>-0.50</td>\n",
       "      <td>-0.48</td>\n",
       "    </tr>\n",
       "    <tr>\n",
       "      <th>...</th>\n",
       "      <td>...</td>\n",
       "      <td>...</td>\n",
       "      <td>...</td>\n",
       "      <td>...</td>\n",
       "      <td>...</td>\n",
       "      <td>...</td>\n",
       "      <td>...</td>\n",
       "      <td>...</td>\n",
       "      <td>...</td>\n",
       "      <td>...</td>\n",
       "      <td>...</td>\n",
       "    </tr>\n",
       "    <tr>\n",
       "      <th>2003-04-17</th>\n",
       "      <td>-0.07</td>\n",
       "      <td>-0.17</td>\n",
       "      <td>-0.16</td>\n",
       "      <td>-0.16</td>\n",
       "      <td>-0.16</td>\n",
       "      <td>-0.16</td>\n",
       "      <td>-0.18</td>\n",
       "      <td>-0.17</td>\n",
       "      <td>-0.17</td>\n",
       "      <td>-0.16</td>\n",
       "      <td>-0.12</td>\n",
       "    </tr>\n",
       "    <tr>\n",
       "      <th>2003-04-16</th>\n",
       "      <td>0.02</td>\n",
       "      <td>-0.10</td>\n",
       "      <td>-0.12</td>\n",
       "      <td>-0.12</td>\n",
       "      <td>-0.14</td>\n",
       "      <td>-0.15</td>\n",
       "      <td>-0.17</td>\n",
       "      <td>-0.15</td>\n",
       "      <td>-0.15</td>\n",
       "      <td>-0.14</td>\n",
       "      <td>-0.10</td>\n",
       "    </tr>\n",
       "    <tr>\n",
       "      <th>2003-04-15</th>\n",
       "      <td>-0.04</td>\n",
       "      <td>-0.04</td>\n",
       "      <td>-0.15</td>\n",
       "      <td>-0.14</td>\n",
       "      <td>-0.15</td>\n",
       "      <td>-0.15</td>\n",
       "      <td>-0.16</td>\n",
       "      <td>-0.16</td>\n",
       "      <td>-0.14</td>\n",
       "      <td>-0.13</td>\n",
       "      <td>-0.12</td>\n",
       "    </tr>\n",
       "    <tr>\n",
       "      <th>2003-04-14</th>\n",
       "      <td>-0.14</td>\n",
       "      <td>-0.03</td>\n",
       "      <td>-0.10</td>\n",
       "      <td>-0.12</td>\n",
       "      <td>-0.13</td>\n",
       "      <td>-0.15</td>\n",
       "      <td>-0.14</td>\n",
       "      <td>-0.16</td>\n",
       "      <td>-0.14</td>\n",
       "      <td>-0.13</td>\n",
       "      <td>-0.12</td>\n",
       "    </tr>\n",
       "    <tr>\n",
       "      <th>2003-04-11</th>\n",
       "      <td>0.02</td>\n",
       "      <td>0.08</td>\n",
       "      <td>-0.02</td>\n",
       "      <td>-0.07</td>\n",
       "      <td>-0.08</td>\n",
       "      <td>-0.09</td>\n",
       "      <td>-0.09</td>\n",
       "      <td>-0.13</td>\n",
       "      <td>-0.12</td>\n",
       "      <td>-0.13</td>\n",
       "      <td>-0.12</td>\n",
       "    </tr>\n",
       "  </tbody>\n",
       "</table>\n",
       "<p>5148 rows × 11 columns</p>\n",
       "</div>"
      ],
      "text/plain": [
       "            PX_LAST_2  PX_LAST_3  PX_LAST_4  PX_LAST_5  PX_LAST_6  PX_LAST_7  \\\n",
       "Date                                                                           \n",
       "2023-04-12      -0.61      -0.74      -0.73      -0.68      -0.65      -0.58   \n",
       "2023-04-11      -0.44      -0.63      -0.63      -0.64      -0.63      -0.62   \n",
       "2023-04-10      -0.39      -0.58      -0.60      -0.61      -0.60      -0.59   \n",
       "2023-04-06      -0.45      -0.63      -0.65      -0.66      -0.63      -0.62   \n",
       "2023-04-05      -0.37      -0.58      -0.62      -0.65      -0.62      -0.60   \n",
       "...               ...        ...        ...        ...        ...        ...   \n",
       "2003-04-17      -0.07      -0.17      -0.16      -0.16      -0.16      -0.16   \n",
       "2003-04-16       0.02      -0.10      -0.12      -0.12      -0.14      -0.15   \n",
       "2003-04-15      -0.04      -0.04      -0.15      -0.14      -0.15      -0.15   \n",
       "2003-04-14      -0.14      -0.03      -0.10      -0.12      -0.13      -0.15   \n",
       "2003-04-11       0.02       0.08      -0.02      -0.07      -0.08      -0.09   \n",
       "\n",
       "            PX_LAST_8  PX_LAST_9  PX_LAST_10  PX_LAST_11  PX_LAST_12  \n",
       "Date                                                                  \n",
       "2023-04-12      -0.68      -0.59       -0.48       -0.59       -0.49  \n",
       "2023-04-11      -0.61      -0.58       -0.53       -0.52       -0.49  \n",
       "2023-04-10      -0.58      -0.56       -0.50       -0.50       -0.46  \n",
       "2023-04-06      -0.60      -0.57       -0.53       -0.51       -0.49  \n",
       "2023-04-05      -0.58      -0.56       -0.52       -0.50       -0.48  \n",
       "...               ...        ...         ...         ...         ...  \n",
       "2003-04-17      -0.18      -0.17       -0.17       -0.16       -0.12  \n",
       "2003-04-16      -0.17      -0.15       -0.15       -0.14       -0.10  \n",
       "2003-04-15      -0.16      -0.16       -0.14       -0.13       -0.12  \n",
       "2003-04-14      -0.14      -0.16       -0.14       -0.13       -0.12  \n",
       "2003-04-11      -0.09      -0.13       -0.12       -0.13       -0.12  \n",
       "\n",
       "[5148 rows x 11 columns]"
      ]
     },
     "execution_count": 103,
     "metadata": {},
     "output_type": "execute_result"
    }
   ],
   "source": [
    "diff = price3.diff(axis=1).iloc[:, 1:].rename(columns=dict(zip(diff.columns, col_name)))\n",
    "diff"
   ]
  },
  {
   "cell_type": "code",
   "execution_count": 104,
   "metadata": {},
   "outputs": [
    {
     "data": {
      "text/plain": [
       "<matplotlib.colorbar.Colorbar at 0x7f86648b00d0>"
      ]
     },
     "execution_count": 104,
     "metadata": {},
     "output_type": "execute_result"
    },
    {
     "data": {
      "image/png": "[encoded data removed]",
      "text/plain": [
       "<Figure size 432x288 with 2 Axes>"
      ]
     },
     "metadata": {
      "needs_background": "light"
     },
     "output_type": "display_data"
    }
   ],
   "source": [
    "tick = diff.columns\n",
    "plt.imshow(diff.corr())\n",
    "#plt.xticks(ticks=[], labels=diff.columns)\n",
    "plt.colorbar()"
   ]
  },
  {
   "cell_type": "markdown",
   "metadata": {},
   "source": [
    "## PCA of price difference"
   ]
  },
  {
   "cell_type": "code",
   "execution_count": 56,
   "metadata": {},
   "outputs": [],
   "source": [
    "from sklearn.decomposition import PCA"
   ]
  },
  {
   "cell_type": "code",
   "execution_count": 105,
   "metadata": {},
   "outputs": [],
   "source": [
    "pca = PCA(n_components=5)\n",
    "pca.fit(diff)\n",
    "diff_pca = pca.transform(diff)"
   ]
  },
  {
   "cell_type": "code",
   "execution_count": 106,
   "metadata": {},
   "outputs": [
    {
     "data": {
      "text/plain": [
       "array([0.92207202, 0.05836912, 0.00939953, 0.00244183, 0.00161997])"
      ]
     },
     "execution_count": 106,
     "metadata": {},
     "output_type": "execute_result"
    }
   ],
   "source": [
    "pca.explained_variance_ratio_"
   ]
  },
  {
   "cell_type": "code",
   "execution_count": 107,
   "metadata": {},
   "outputs": [
    {
     "data": {
      "image/png": "[encoded data removed]",
      "text/plain": [
       "<Figure size 432x288 with 1 Axes>"
      ]
     },
     "metadata": {
      "needs_background": "light"
     },
     "output_type": "display_data"
    }
   ],
   "source": [
    "plt.plot(np.cumsum(pca.explained_variance_ratio_))\n",
    "plt.xlabel('Number of Components')\n",
    "plt.ylabel('Cumulative Explained Variance Ratio')\n",
    "plt.title(\"PCA explainability\")\n",
    "plt.show()"
   ]
  },
  {
   "cell_type": "code",
   "execution_count": 135,
   "metadata": {},
   "outputs": [],
   "source": [
    "df_pca = pd.DataFrame(diff_pca,columns=['pca_0', 'pca_1','pca_2','pca_3','pca_4'])\n",
    "df_pca.set_index(pd.to_datetime(price3.index),inplace = True)"
   ]
  },
  {
   "cell_type": "code",
   "execution_count": 136,
   "metadata": {},
   "outputs": [
    {
     "data": {
      "image/png": "[encoded data removed]",
      "text/plain": [
       "<Figure size 1152x576 with 1 Axes>"
      ]
     },
     "metadata": {
      "needs_background": "light"
     },
     "output_type": "display_data"
    }
   ],
   "source": [
    "fig,ax=plt.subplots(figsize=(16,8))\n",
    "\n",
    "\n",
    "x = df_pca.index\n",
    "y1 = df_pca['pca_0']\n",
    "y2 = df_pca['pca_1']\n",
    "y3 = df_pca['pca_2']\n",
    "\n",
    "# Plot the lines\n",
    "plt.plot(x, y1, label='pca_0')\n",
    "plt.plot(x, y2, label='pca_1')\n",
    "plt.plot(x, y3, label='pca_2')\n",
    "\n",
    "# Add legend and axis labels\n",
    "plt.legend()\n",
    "plt.xlabel('x')\n",
    "plt.ylabel('y')\n",
    "\n",
    "# Show the plot\n",
    "plt.show()"
   ]
  },
  {
   "cell_type": "code",
   "execution_count": 157,
   "metadata": {},
   "outputs": [],
   "source": [
    "diff['contago'] = price3['contago']\n",
    "# diff.head()"
   ]
  },
  {
   "cell_type": "code",
   "execution_count": 141,
   "metadata": {},
   "outputs": [
    {
     "data": {
      "text/plain": [
       "array([ 616,  617,  618, ..., 4600, 4602, 4604])"
      ]
     },
     "execution_count": 141,
     "metadata": {},
     "output_type": "execute_result"
    }
   ],
   "source": [
    "idx = np.where(diff['contago'] == 1)[0]\n",
    "idx"
   ]
  },
  {
   "cell_type": "code",
   "execution_count": 151,
   "metadata": {},
   "outputs": [],
   "source": [
    "t = row[0]\n",
    "pca_0 = row[1][\"pca_0\"]"
   ]
  },
  {
   "cell_type": "code",
   "execution_count": 155,
   "metadata": {},
   "outputs": [
    {
     "data": {
      "text/plain": [
       "0.0"
      ]
     },
     "execution_count": 155,
     "metadata": {},
     "output_type": "execute_result"
    }
   ],
   "source": [
    "diff.loc[t][\"contago\"]"
   ]
  },
  {
   "cell_type": "code",
   "execution_count": null,
   "metadata": {},
   "outputs": [],
   "source": [
    "fig,ax=plt.subplots(3,1,figsize=(16,10*3))\n",
    "for row in df_pca.iterrows():\n",
    "    t = row[0]\n",
    "    pca_0 = row[1][\"pca_0\"]\n",
    "    pca_1 = row[1][\"pca_1\"]\n",
    "    pca_2 = row[1][\"pca_2\"]\n",
    "    color_i = \"red\" if diff.loc[t][\"contago\"] > 0 else \"blue\"\n",
    "    ax[0].scatter(t,pca_0,color=color_i)\n",
    "    ax[1].scatter(t,pca_1,color=color_i)\n",
    "    ax[2].scatter(t,pca_2,color=color_i)\n",
    "    \n",
    "ax[0].set_title(\"PCA 0\")\n",
    "ax[1].set_title(\"PCA 1\")\n",
    "ax[2].set_title(\"PCA 2\")"
   ]
  },
  {
   "cell_type": "code",
   "execution_count": 163,
   "metadata": {},
   "outputs": [
    {
     "data": {
      "text/plain": [
       "(5, 11)"
      ]
     },
     "execution_count": 163,
     "metadata": {},
     "output_type": "execute_result"
    }
   ],
   "source": [
    "pca.components_.shape"
   ]
  },
  {
   "cell_type": "code",
   "execution_count": 168,
   "metadata": {},
   "outputs": [
    {
     "data": {
      "text/plain": [
       "array([-0.47141232, -0.41464253, -0.36526222, -0.32401865, -0.29045512,\n",
       "       -0.2620737 , -0.23893724, -0.22040495, -0.203915  , -0.18900632,\n",
       "       -0.17724716])"
      ]
     },
     "execution_count": 168,
     "metadata": {},
     "output_type": "execute_result"
    }
   ],
   "source": [
    "pca.components_[0,:]"
   ]
  },
  {
   "cell_type": "code",
   "execution_count": 169,
   "metadata": {},
   "outputs": [
    {
     "data": {
      "text/plain": [
       "[<matplotlib.lines.Line2D at 0x7f864a36ae50>]"
      ]
     },
     "execution_count": 169,
     "metadata": {},
     "output_type": "execute_result"
    },
    {
     "data": {
      "image/png": "[encoded data removed]",
      "text/plain": [
       "<Figure size 432x288 with 1 Axes>"
      ]
     },
     "metadata": {
      "needs_background": "light"
     },
     "output_type": "display_data"
    }
   ],
   "source": [
    "plt.plot(pca.components_[0,:])\n",
    "plt.plot(pca.components_[1,:])\n",
    "# plt.plot(pca.components_[3,:])"
   ]
  }
 ],
 "metadata": {
  "kernelspec": {
   "display_name": "Python 3",
   "language": "python",
   "name": "python3"
  },
  "language_info": {
   "codemirror_mode": {
    "name": "ipython",
    "version": 3
   },
   "file_extension": ".py",
   "mimetype": "text/x-python",
   "name": "python",
   "nbconvert_exporter": "python",
   "pygments_lexer": "ipython3",
   "version": "3.8.5"
  }
 },
 "nbformat": 4,
 "nbformat_minor": 4
}
