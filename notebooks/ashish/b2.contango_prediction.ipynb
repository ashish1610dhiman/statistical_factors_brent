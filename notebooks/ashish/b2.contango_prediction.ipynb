{
 "cells": [
  {
   "cell_type": "code",
   "execution_count": 2,
   "id": "73cf2d7f",
   "metadata": {},
   "outputs": [],
   "source": [
    "import pandas as pd\n",
    "import numpy as np\n",
    "import os\n",
    "import datetime\n",
    "import matplotlib.pyplot as plt"
   ]
  },
  {
   "cell_type": "markdown",
   "id": "447fedda",
   "metadata": {},
   "source": [
    "### Read org data"
   ]
  },
  {
   "cell_type": "code",
   "execution_count": 3,
   "id": "2ae82f3e",
   "metadata": {},
   "outputs": [
    {
     "name": "stdout",
     "output_type": "stream",
     "text": [
      "Shape before dropping nulls, (5152, 12)\n",
      "Shape after dropping nulls, (5148, 12)\n"
     ]
    }
   ],
   "source": [
    "df_agg = pd.read_parquet(\"../../data/data_agg_v0.parquet\")\n",
    "\n",
    "price_cols = [x for x in df_agg.columns if \"LAST\" in x]\n",
    "df_subset = df_agg[[\"Date\"] + price_cols[:12]]\n",
    "df_subset.index = df_subset[\"Date\"]\n",
    "df_subset = df_subset.drop(columns=[\"Date\"])\n",
    "print(f\"Shape before dropping nulls, {df_subset.shape}\")\n",
    "df_subset = df_subset.dropna()\n",
    "print(f\"Shape after dropping nulls, {df_subset.shape}\")"
   ]
  },
  {
   "cell_type": "code",
   "execution_count": null,
   "id": "fff13b67",
   "metadata": {},
   "outputs": [],
   "source": []
  },
  {
   "cell_type": "code",
   "execution_count": null,
   "id": "74e89a95",
   "metadata": {},
   "outputs": [],
   "source": []
  },
  {
   "cell_type": "code",
   "execution_count": null,
   "id": "d02d2fa9",
   "metadata": {},
   "outputs": [],
   "source": []
  },
  {
   "cell_type": "code",
   "execution_count": null,
   "id": "8d7aba31",
   "metadata": {},
   "outputs": [],
   "source": []
  },
  {
   "cell_type": "code",
   "execution_count": null,
   "id": "fb2c1c02",
   "metadata": {},
   "outputs": [],
   "source": []
  },
  {
   "cell_type": "code",
   "execution_count": null,
   "id": "3e4f9192",
   "metadata": {},
   "outputs": [],
   "source": []
  },
  {
   "cell_type": "code",
   "execution_count": null,
   "id": "01d2f040",
   "metadata": {},
   "outputs": [],
   "source": [
    "df_subset1 = df_subset.sort_index()"
   ]
  },
  {
   "cell_type": "code",
   "execution_count": null,
   "id": "8eaf9998",
   "metadata": {},
   "outputs": [],
   "source": [
    "mask1 = df_subset1[\"PX_LAST_6\"]>df_subset1[\"PX_LAST\"]\n",
    "mask2 = df_subset1[\"PX_LAST_12\"]>df_subset1[\"PX_LAST_6\"]\n",
    "\n",
    "df_subset1[\"contango\"] = (mask1 & mask2).astype(\"int\")\n",
    "df_subset1[\"contango\"].mean()"
   ]
  },
  {
   "cell_type": "code",
   "execution_count": null,
   "id": "853ca66b",
   "metadata": {},
   "outputs": [],
   "source": [
    "contango = df_subset1[[\"contango\"]]\n",
    "for i in range(1,5):\n",
    "    contango[f\"lag_{i}\"] = contango[\"contango\"].shift(i)\n",
    "contango[\"contango_start\"] = ((contango.sum(axis=1)==1) & (contango[\"contango\"]==1)).astype(int)"
   ]
  },
  {
   "cell_type": "code",
   "execution_count": null,
   "id": "c4463a78",
   "metadata": {},
   "outputs": [],
   "source": [
    "contango[\"contango_start\"].mean()"
   ]
  },
  {
   "cell_type": "code",
   "execution_count": null,
   "id": "6a29cc84",
   "metadata": {},
   "outputs": [],
   "source": [
    "fig,ax = plt.subplots(figsize=(16,9))\n",
    "df_subset1[df_subset1.contango>0].drop(columns=\"contango\").groupby(lambda x: (x.year)).mean().T.plot(ax=ax)"
   ]
  },
  {
   "cell_type": "code",
   "execution_count": null,
   "id": "c982a9e1",
   "metadata": {},
   "outputs": [],
   "source": [
    "pca_data = pd.read_csv(\"../../data/log_returns_pca.csv\",index_col=0)\n",
    "pca_data.index = pd.to_datetime(pca_data.index)\n",
    "pca_data.shape"
   ]
  },
  {
   "cell_type": "code",
   "execution_count": null,
   "id": "aa708542",
   "metadata": {},
   "outputs": [],
   "source": [
    "df_merged = df_subset1[[\"contango\"]].merge(pca_data,left_index=True,right_index=True)\n",
    "df_merged[[x for x in df_merged.columns if \"pca\" in x\\\n",
    "          ]] = df_merged[[x for x in df_merged.columns if \"pca\" in x]].shift(1)"
   ]
  },
  {
   "cell_type": "code",
   "execution_count": null,
   "id": "670daec1",
   "metadata": {},
   "outputs": [],
   "source": [
    "df_merged1 = df_merged.dropna()\n",
    "\n",
    "import statsmodels.api as sm\n",
    "Xtrain = df_merged1.values\n",
    "y = df_merged1[\"contango\"]\n",
    "\n",
    "# building the model and fitting the data\n",
    "log_reg = sm.Logit(y, Xtrain).fit()"
   ]
  },
  {
   "cell_type": "code",
   "execution_count": null,
   "id": "7a3ec401",
   "metadata": {},
   "outputs": [],
   "source": [
    "Xtrain.shape"
   ]
  },
  {
   "cell_type": "code",
   "execution_count": null,
   "id": "f1ead349",
   "metadata": {},
   "outputs": [],
   "source": [
    "print(log_reg.summary())"
   ]
  },
  {
   "cell_type": "code",
   "execution_count": null,
   "id": "a4b0ad9b",
   "metadata": {},
   "outputs": [],
   "source": []
  },
  {
   "cell_type": "code",
   "execution_count": null,
   "id": "c98c64ef",
   "metadata": {},
   "outputs": [],
   "source": []
  }
 ],
 "metadata": {
  "kernelspec": {
   "display_name": "Python 3 (ipykernel)",
   "language": "python",
   "name": "python3"
  },
  "language_info": {
   "codemirror_mode": {
    "name": "ipython",
    "version": 3
   },
   "file_extension": ".py",
   "mimetype": "text/x-python",
   "name": "python",
   "nbconvert_exporter": "python",
   "pygments_lexer": "ipython3",
   "version": "3.9.15"
  }
 },
 "nbformat": 4,
 "nbformat_minor": 5
}
