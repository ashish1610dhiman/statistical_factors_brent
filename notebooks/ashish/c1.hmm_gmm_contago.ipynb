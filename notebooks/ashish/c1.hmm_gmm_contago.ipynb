{
 "cells": [
  {
   "cell_type": "code",
   "execution_count": 4,
   "id": "b39afa78",
   "metadata": {},
   "outputs": [],
   "source": [
    "import pandas as pd\n",
    "import numpy as np\n",
    "import os\n",
    "import datetime\n",
    "import matplotlib.pyplot as plt"
   ]
  },
  {
   "cell_type": "markdown",
   "id": "f480d6d2",
   "metadata": {},
   "source": [
    "### Read org data"
   ]
  },
  {
   "cell_type": "code",
   "execution_count": 5,
   "id": "2cc663db",
   "metadata": {},
   "outputs": [
    {
     "data": {
      "text/plain": [
       "(5148, 6)"
      ]
     },
     "execution_count": 5,
     "metadata": {},
     "output_type": "execute_result"
    }
   ],
   "source": [
    "diff_pca = pd.read_csv(\"../../data/pca_5c.csv\")\n",
    "diff_pca.shape"
   ]
  },
  {
   "cell_type": "code",
   "execution_count": 6,
   "id": "896fe5fb",
   "metadata": {},
   "outputs": [
    {
     "data": {
      "text/html": [
       "<div>\n",
       "<style scoped>\n",
       "    .dataframe tbody tr th:only-of-type {\n",
       "        vertical-align: middle;\n",
       "    }\n",
       "\n",
       "    .dataframe tbody tr th {\n",
       "        vertical-align: top;\n",
       "    }\n",
       "\n",
       "    .dataframe thead th {\n",
       "        text-align: right;\n",
       "    }\n",
       "</style>\n",
       "<table border=\"1\" class=\"dataframe\">\n",
       "  <thead>\n",
       "    <tr style=\"text-align: right;\">\n",
       "      <th></th>\n",
       "      <th>Date</th>\n",
       "      <th>pca_0</th>\n",
       "      <th>pca_1</th>\n",
       "      <th>pca_2</th>\n",
       "      <th>pca_3</th>\n",
       "      <th>pca_4</th>\n",
       "    </tr>\n",
       "  </thead>\n",
       "  <tbody>\n",
       "    <tr>\n",
       "      <th>0</th>\n",
       "      <td>2023-04-12</td>\n",
       "      <td>1.909963</td>\n",
       "      <td>-0.351057</td>\n",
       "      <td>-0.056936</td>\n",
       "      <td>-0.028624</td>\n",
       "      <td>-0.040396</td>\n",
       "    </tr>\n",
       "    <tr>\n",
       "      <th>1</th>\n",
       "      <td>2023-04-11</td>\n",
       "      <td>1.717435</td>\n",
       "      <td>-0.471007</td>\n",
       "      <td>-0.047943</td>\n",
       "      <td>-0.000686</td>\n",
       "      <td>-0.015010</td>\n",
       "    </tr>\n",
       "    <tr>\n",
       "      <th>2</th>\n",
       "      <td>2023-04-10</td>\n",
       "      <td>1.609087</td>\n",
       "      <td>-0.467092</td>\n",
       "      <td>-0.055264</td>\n",
       "      <td>0.009463</td>\n",
       "      <td>-0.022080</td>\n",
       "    </tr>\n",
       "    <tr>\n",
       "      <th>3</th>\n",
       "      <td>2023-04-06</td>\n",
       "      <td>1.729451</td>\n",
       "      <td>-0.458372</td>\n",
       "      <td>-0.062140</td>\n",
       "      <td>0.008793</td>\n",
       "      <td>-0.004786</td>\n",
       "    </tr>\n",
       "    <tr>\n",
       "      <th>4</th>\n",
       "      <td>2023-04-05</td>\n",
       "      <td>1.635978</td>\n",
       "      <td>-0.502687</td>\n",
       "      <td>-0.074070</td>\n",
       "      <td>0.019104</td>\n",
       "      <td>-0.003345</td>\n",
       "    </tr>\n",
       "    <tr>\n",
       "      <th>...</th>\n",
       "      <td>...</td>\n",
       "      <td>...</td>\n",
       "      <td>...</td>\n",
       "      <td>...</td>\n",
       "      <td>...</td>\n",
       "      <td>...</td>\n",
       "    </tr>\n",
       "    <tr>\n",
       "      <th>5143</th>\n",
       "      <td>2003-04-17</td>\n",
       "      <td>0.367865</td>\n",
       "      <td>-0.074382</td>\n",
       "      <td>-0.085642</td>\n",
       "      <td>-0.008546</td>\n",
       "      <td>-0.001766</td>\n",
       "    </tr>\n",
       "    <tr>\n",
       "      <th>5144</th>\n",
       "      <td>2003-04-16</td>\n",
       "      <td>0.242211</td>\n",
       "      <td>-0.119124</td>\n",
       "      <td>-0.087902</td>\n",
       "      <td>0.008568</td>\n",
       "      <td>0.000521</td>\n",
       "    </tr>\n",
       "    <tr>\n",
       "      <th>5145</th>\n",
       "      <td>2003-04-15</td>\n",
       "      <td>0.265390</td>\n",
       "      <td>-0.092445</td>\n",
       "      <td>-0.045351</td>\n",
       "      <td>0.055036</td>\n",
       "      <td>-0.000707</td>\n",
       "    </tr>\n",
       "    <tr>\n",
       "      <th>5146</th>\n",
       "      <td>2003-04-14</td>\n",
       "      <td>0.273054</td>\n",
       "      <td>-0.011274</td>\n",
       "      <td>0.033414</td>\n",
       "      <td>0.059628</td>\n",
       "      <td>-0.007909</td>\n",
       "    </tr>\n",
       "    <tr>\n",
       "      <th>5147</th>\n",
       "      <td>2003-04-11</td>\n",
       "      <td>0.053711</td>\n",
       "      <td>-0.092709</td>\n",
       "      <td>0.040250</td>\n",
       "      <td>0.042715</td>\n",
       "      <td>-0.005623</td>\n",
       "    </tr>\n",
       "  </tbody>\n",
       "</table>\n",
       "<p>5148 rows × 6 columns</p>\n",
       "</div>"
      ],
      "text/plain": [
       "            Date     pca_0     pca_1     pca_2     pca_3     pca_4\n",
       "0     2023-04-12  1.909963 -0.351057 -0.056936 -0.028624 -0.040396\n",
       "1     2023-04-11  1.717435 -0.471007 -0.047943 -0.000686 -0.015010\n",
       "2     2023-04-10  1.609087 -0.467092 -0.055264  0.009463 -0.022080\n",
       "3     2023-04-06  1.729451 -0.458372 -0.062140  0.008793 -0.004786\n",
       "4     2023-04-05  1.635978 -0.502687 -0.074070  0.019104 -0.003345\n",
       "...          ...       ...       ...       ...       ...       ...\n",
       "5143  2003-04-17  0.367865 -0.074382 -0.085642 -0.008546 -0.001766\n",
       "5144  2003-04-16  0.242211 -0.119124 -0.087902  0.008568  0.000521\n",
       "5145  2003-04-15  0.265390 -0.092445 -0.045351  0.055036 -0.000707\n",
       "5146  2003-04-14  0.273054 -0.011274  0.033414  0.059628 -0.007909\n",
       "5147  2003-04-11  0.053711 -0.092709  0.040250  0.042715 -0.005623\n",
       "\n",
       "[5148 rows x 6 columns]"
      ]
     },
     "execution_count": 6,
     "metadata": {},
     "output_type": "execute_result"
    }
   ],
   "source": [
    "diff_pca"
   ]
  },
  {
   "cell_type": "code",
   "execution_count": null,
   "id": "464cb352",
   "metadata": {},
   "outputs": [],
   "source": []
  },
  {
   "cell_type": "code",
   "execution_count": null,
   "id": "996aee88",
   "metadata": {},
   "outputs": [],
   "source": []
  },
  {
   "cell_type": "code",
   "execution_count": 3,
   "id": "4477cda7",
   "metadata": {},
   "outputs": [
    {
     "name": "stdout",
     "output_type": "stream",
     "text": [
      "Shape before dropping nulls, (5152, 12)\n",
      "Shape after dropping nulls, (5148, 12)\n"
     ]
    }
   ],
   "source": [
    "df_agg = pd.read_parquet(\"../../data/data_agg_v0.parquet\")\n",
    "\n",
    "price_cols = [x for x in df_agg.columns if \"LAST\" in x]\n",
    "df_subset = df_agg[[\"Date\"] + price_cols[:12]]\n",
    "df_subset.index = df_subset[\"Date\"]\n",
    "df_subset = df_subset.drop(columns=[\"Date\"])\n",
    "print(f\"Shape before dropping nulls, {df_subset.shape}\")\n",
    "df_subset = df_subset.dropna()\n",
    "print(f\"Shape after dropping nulls, {df_subset.shape}\")"
   ]
  },
  {
   "cell_type": "code",
   "execution_count": null,
   "id": "69bce95f",
   "metadata": {},
   "outputs": [],
   "source": []
  },
  {
   "cell_type": "code",
   "execution_count": null,
   "id": "437e333e",
   "metadata": {},
   "outputs": [],
   "source": []
  },
  {
   "cell_type": "code",
   "execution_count": null,
   "id": "60bb0f50",
   "metadata": {},
   "outputs": [],
   "source": []
  },
  {
   "cell_type": "code",
   "execution_count": null,
   "id": "b8223c5c",
   "metadata": {},
   "outputs": [],
   "source": []
  },
  {
   "cell_type": "code",
   "execution_count": null,
   "id": "60c58a25",
   "metadata": {},
   "outputs": [],
   "source": []
  },
  {
   "cell_type": "code",
   "execution_count": null,
   "id": "838b502a",
   "metadata": {},
   "outputs": [],
   "source": []
  },
  {
   "cell_type": "code",
   "execution_count": null,
   "id": "c820cce9",
   "metadata": {},
   "outputs": [],
   "source": [
    "df_subset1 = df_subset.sort_index()"
   ]
  },
  {
   "cell_type": "code",
   "execution_count": null,
   "id": "855e4c5e",
   "metadata": {},
   "outputs": [],
   "source": [
    "mask1 = df_subset1[\"PX_LAST_6\"]>df_subset1[\"PX_LAST\"]\n",
    "mask2 = df_subset1[\"PX_LAST_12\"]>df_subset1[\"PX_LAST_6\"]\n",
    "\n",
    "df_subset1[\"contango\"] = (mask1 & mask2).astype(\"int\")\n",
    "df_subset1[\"contango\"].mean()"
   ]
  },
  {
   "cell_type": "code",
   "execution_count": null,
   "id": "94ad4145",
   "metadata": {},
   "outputs": [],
   "source": [
    "contango = df_subset1[[\"contango\"]]\n",
    "for i in range(1,5):\n",
    "    contango[f\"lag_{i}\"] = contango[\"contango\"].shift(i)\n",
    "contango[\"contango_start\"] = ((contango.sum(axis=1)==1) & (contango[\"contango\"]==1)).astype(int)"
   ]
  },
  {
   "cell_type": "code",
   "execution_count": null,
   "id": "e7750b3c",
   "metadata": {},
   "outputs": [],
   "source": [
    "contango[\"contango_start\"].mean()"
   ]
  },
  {
   "cell_type": "code",
   "execution_count": null,
   "id": "7c60efff",
   "metadata": {},
   "outputs": [],
   "source": [
    "fig,ax = plt.subplots(figsize=(16,9))\n",
    "df_subset1[df_subset1.contango>0].drop(columns=\"contango\").groupby(lambda x: (x.year)).mean().T.plot(ax=ax)"
   ]
  },
  {
   "cell_type": "code",
   "execution_count": null,
   "id": "63815a3f",
   "metadata": {},
   "outputs": [],
   "source": [
    "pca_data = pd.read_csv(\"../../data/log_returns_pca.csv\",index_col=0)\n",
    "pca_data.index = pd.to_datetime(pca_data.index)\n",
    "pca_data.shape"
   ]
  },
  {
   "cell_type": "code",
   "execution_count": null,
   "id": "06e32774",
   "metadata": {},
   "outputs": [],
   "source": [
    "df_merged = df_subset1[[\"contango\"]].merge(pca_data,left_index=True,right_index=True)\n",
    "df_merged[[x for x in df_merged.columns if \"pca\" in x\\\n",
    "          ]] = df_merged[[x for x in df_merged.columns if \"pca\" in x]].shift(1)"
   ]
  },
  {
   "cell_type": "code",
   "execution_count": null,
   "id": "15a83e7e",
   "metadata": {},
   "outputs": [],
   "source": [
    "df_merged1 = df_merged.dropna()\n",
    "\n",
    "import statsmodels.api as sm\n",
    "Xtrain = df_merged1.values\n",
    "y = df_merged1[\"contango\"]\n",
    "\n",
    "# building the model and fitting the data\n",
    "log_reg = sm.Logit(y, Xtrain).fit()"
   ]
  },
  {
   "cell_type": "code",
   "execution_count": null,
   "id": "99b1a9dd",
   "metadata": {},
   "outputs": [],
   "source": [
    "Xtrain.shape"
   ]
  },
  {
   "cell_type": "code",
   "execution_count": null,
   "id": "f93c4990",
   "metadata": {},
   "outputs": [],
   "source": [
    "print(log_reg.summary())"
   ]
  },
  {
   "cell_type": "code",
   "execution_count": null,
   "id": "13ff361a",
   "metadata": {},
   "outputs": [],
   "source": []
  },
  {
   "cell_type": "code",
   "execution_count": null,
   "id": "1b036f5b",
   "metadata": {},
   "outputs": [],
   "source": []
  }
 ],
 "metadata": {
  "kernelspec": {
   "display_name": "Python 3 (ipykernel)",
   "language": "python",
   "name": "python3"
  },
  "language_info": {
   "codemirror_mode": {
    "name": "ipython",
    "version": 3
   },
   "file_extension": ".py",
   "mimetype": "text/x-python",
   "name": "python",
   "nbconvert_exporter": "python",
   "pygments_lexer": "ipython3",
   "version": "3.9.15"
  }
 },
 "nbformat": 4,
 "nbformat_minor": 5
}
